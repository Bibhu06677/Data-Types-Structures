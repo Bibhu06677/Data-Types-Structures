{
  "nbformat": 4,
  "nbformat_minor": 0,
  "metadata": {
    "colab": {
      "provenance": []
    },
    "kernelspec": {
      "name": "python3",
      "display_name": "Python 3"
    },
    "language_info": {
      "name": "python"
    }
  },
  "cells": [
    {
      "cell_type": "code",
      "execution_count": null,
      "metadata": {
        "id": "GmQSFEMvC5mO"
      },
      "outputs": [],
      "source": []
    },
    {
      "cell_type": "markdown",
      "source": [
        "**1- What are data structures, and why are they important?**\n",
        "\n",
        "Data structures in Python are ways of organizing and storing data so that it can be accessed and modified efficiently. Think of them like different containers you use based on what you need — like a box, a shelf, or a filing cabinet.\n",
        "\n",
        "Some common data structures in Python are:\n",
        "\n",
        "List ([]): ordered, changeable collection, like a to-do list.\n",
        "\n",
        "Tuple (()): ordered, unchangeable collection, like a set of GPS coordinates.\n",
        "\n",
        "Set ({}): unordered collection of unique items, like a bag of different fruits.\n",
        "\n",
        "Dictionary ({key: value}): unordered collection of key-value pairs, like a phonebook.\n",
        "\n",
        "**Why are they important?**\n",
        "\n",
        "Efficiency: The right structure makes your code faster and uses memory better.\n",
        "\n",
        "Organization: Helps in managing and processing data neatly.\n",
        "\n",
        "Problem-solving: Some tasks need specific structures (like using a dictionary for fast lookups).\n",
        "\n",
        "Real-world modeling: Structures like graphs, trees, and queues help model complex problems (social networks, search engines, etc.).\n",
        "\n",
        "**2-  Explain the difference between mutable and immutable data types with examples.**\n",
        "\n",
        "**Mutable data types**\n",
        "\n",
        "You can change their content after they are created.\n",
        "\n",
        "For example, you can add, remove, or update elements without creating a new object.\n",
        "\n",
        "Examples:\n",
        "\n",
        "List:\n",
        "\n"
      ],
      "metadata": {
        "id": "zVCpNJ28DlV1"
      }
    },
    {
      "cell_type": "code",
      "source": [
        "my_list = [1, 2, 3]\n",
        "my_list.append(4)\n"
      ],
      "metadata": {
        "id": "aum92OU0Ersg"
      },
      "execution_count": null,
      "outputs": []
    },
    {
      "cell_type": "markdown",
      "source": [
        "Set:"
      ],
      "metadata": {
        "id": "kokB5cuqE77F"
      }
    },
    {
      "cell_type": "code",
      "source": [
        "my_set = {1, 2, 3}\n",
        "my_set.add(4)\n"
      ],
      "metadata": {
        "id": "fludu3dgFASS"
      },
      "execution_count": null,
      "outputs": []
    },
    {
      "cell_type": "markdown",
      "source": [
        "Dictionary:"
      ],
      "metadata": {
        "id": "t01HkMqmFI9D"
      }
    },
    {
      "cell_type": "code",
      "source": [
        "my_dict = {\"name\": \"Alice\"}\n",
        "my_dict[\"age\"] = 25\n"
      ],
      "metadata": {
        "id": "PHG7T10vFKXo"
      },
      "execution_count": null,
      "outputs": []
    },
    {
      "cell_type": "markdown",
      "source": [
        "**Immutable data types**\n",
        "\n",
        "You cannot change them once they are created.\n",
        "\n",
        "If you want a \"change,\" you actually create a new object.\n",
        "\n",
        "Examples:\n",
        "\n",
        "Tuple:"
      ],
      "metadata": {
        "id": "RkLMQZ8SGEhQ"
      }
    },
    {
      "cell_type": "code",
      "source": [
        "my_tuple = (1, 2, 3)\n",
        "# You can't add or change elements directly\n"
      ],
      "metadata": {
        "id": "jFuujMdwGOJ5"
      },
      "execution_count": null,
      "outputs": []
    },
    {
      "cell_type": "markdown",
      "source": [
        "String:"
      ],
      "metadata": {
        "id": "EKIJKWM_GTj4"
      }
    },
    {
      "cell_type": "code",
      "source": [
        "my_str = \"hello\"\n",
        "my_str = my_str + \" world\"  # Creates a NEW string \"hello world\"\n",
        "\n"
      ],
      "metadata": {
        "id": "QNyiARZWGYTc"
      },
      "execution_count": null,
      "outputs": []
    },
    {
      "cell_type": "markdown",
      "source": [
        "Integer:"
      ],
      "metadata": {
        "id": "XeW0JFbKG-cU"
      }
    },
    {
      "cell_type": "code",
      "source": [
        "x = 5\n",
        "x = x + 1  # Creates a NEW integer 6\n"
      ],
      "metadata": {
        "id": "LYg1Co8fHC6Z"
      },
      "execution_count": null,
      "outputs": []
    },
    {
      "cell_type": "markdown",
      "source": [
        "**3- What are the main differences between lists and tuples in Python?**\n",
        "\n",
        "Feature      | List ([])                | Tuple (())\n",
        "\n",
        "---\n",
        "\n",
        "\n",
        "\n",
        "Mutability |  Mutable (can change) |  Immutable (cannot change)\n",
        "\n",
        "Syntax |   Square brackets [ ] | Parentheses ( )\n",
        "\n",
        "Performance | Slightly slower (more flexible) | Faster (less flexible, fixed size)\n",
        "\n",
        "Use Case | When you need to change data | When data should stay constant\n",
        "\n",
        "Methods Available | Many (like append(), remove()) | Fewer methods (mainly count/index)\n",
        "\n",
        "Memory Usage | More memory | Less memory\n",
        "\n",
        "**4- Describe how dictionaries store data?**\n",
        "\n",
        "Dictionaries in Python store data as key-value pairs.\n",
        "\n",
        "Key → like a \"label\" or \"name\" to identify data\n",
        "\n",
        "Value → the actual \"data\" or \"information\" you want to store\n",
        "\n",
        "The basic idea:\n",
        "\n",
        "\n",
        "\n"
      ],
      "metadata": {
        "id": "k0tthrAkHKTY"
      }
    },
    {
      "cell_type": "code",
      "source": [
        "my_dict = {\n",
        "    \"name\": \"Bibhu\",\n",
        "    \"age\": 35,\n",
        "    \"city\": \"Hyderabad\"\n",
        "}\n"
      ],
      "metadata": {
        "id": "2Hkw_rhVKjho"
      },
      "execution_count": null,
      "outputs": []
    },
    {
      "cell_type": "markdown",
      "source": [
        "Here:\n",
        "\n",
        "\"name\" is the key, \"Bibhu\" is the value.\n",
        "\n",
        "\"age\" is the key, 35 is the value.\n",
        "\n",
        "\"city\" is the key, \"Hyderabad\" is the value.\n",
        "\n",
        " *How Python stores it internally:*\n",
        "\n",
        "Dictionaries use a data structure called a hash table.\n",
        "\n",
        "When you create a dictionary, Python computes a hash (a unique ID number) for each key.\n",
        "\n",
        "It uses that hash to quickly find and store the associated value.\n",
        "\n",
        "This is why looking up a value in a dictionary is very fast — often instant (constant time, O(1) complexity).\n",
        "\n",
        "*Important rules:*\n",
        "\n",
        "Keys must be unique (you can’t have two keys with the same name).\n",
        "\n",
        "Keys must be immutable (they can be strings, numbers, tuples — but not lists or dictionaries).\n",
        "\n",
        "Values can be anything (mutable or immutable, even another dictionary).\n",
        "\n",
        "**5- Why might you use a set instead of a list in Python?**\n",
        "\n",
        " We might use a set instead of a list in Python when:\n",
        "\n",
        " Reason | Why it matters\n",
        "\n",
        "We need unique elements | A set automatically removes duplicates.\n",
        "\n",
        "We want fast membership tests | Checking if something is in a set is much faster than in a list.\n",
        "\n",
        "We don't care about order | Sets are unordered collections — perfect when order doesn’t matter.\n",
        "\n",
        "**6- What is a string in Python, and how is it different from a list?**\n",
        "\n",
        "A string is a sequence of characters (letters, numbers, symbols).\n",
        "\n",
        "It’s used to represent text.\n",
        "\n",
        "Strings are enclosed in quotes: 'hello', \"world\", or even triple quotes '''multi-line'''.\n",
        "\n",
        "*How is it different from a List?*\n",
        "\n",
        "Feature | String | List\n",
        "\n",
        "Data Type | Sequence of characters | Sequence of any data types (numbers, strings, objects, etc.)\n",
        "\n",
        "Mutability |  Immutable (cannot change) |  Mutable (can change elements)\n",
        "\n",
        "Syntax | Quotes ' ' or \" \" | Square brackets [ ]\n",
        "\n",
        "Elements | Always characters | Can be anything (mix of types)\n",
        "\n",
        "Usage | Mainly for text handling | For collections of items\n",
        "\n",
        "\n",
        "\n"
      ],
      "metadata": {
        "id": "y--gQHMqKmep"
      }
    },
    {
      "cell_type": "markdown",
      "source": [],
      "metadata": {
        "id": "mwGvyYURJna-"
      }
    },
    {
      "cell_type": "markdown",
      "source": [
        "**7- How do tuples ensure data integrity in Python?**\n",
        "\n",
        "Tuples ensure data integrity in Python because they are immutable.\n",
        "\n",
        "Once a tuple is created, its content cannot be changed.\n",
        "\n",
        "You can't add, remove, or modify any elements in a tuple after creation.\n",
        "\n",
        "This means the data inside a tuple stays safe and constant throughout the life of the program.\n",
        "\n",
        "Why is this important?\n",
        "\n",
        "Safety: Protects critical values from being changed.\n",
        "\n",
        "Reliability: Code behaves more predictably when some things stay fixed.\n",
        "\n",
        "Hashability: Tuples can be used as keys in dictionaries or added to sets, because they're immutable."
      ],
      "metadata": {
        "id": "ILl-mgnUNXno"
      }
    },
    {
      "cell_type": "markdown",
      "source": [
        "**8- What is a hash table, and how does it relate to dictionaries in Python?**\n",
        "\n",
        "A hash table is a data structure that stores data in a way that allows for very fast access.\n",
        "\n",
        "It uses a special function called a hash function to turn a key (like a name) into an index (a location in memory) where the value is stored.\n",
        "\n",
        "*How does it relate to Dictionaries in Python?*\n",
        "\n",
        "Python’s dictionaries are built on top of hash tables.\n",
        "\n",
        "When you create a dictionary and set a key-value pair:\n",
        "\n",
        "my_dict = {\"name\": \"Bibhu\"}\n",
        "\n",
        "Python hashes the key (\"name\") into a unique number.\n",
        "\n",
        "It then stores the value (\"Bibhu\") at a memory spot associated with that hash.\n",
        "\n",
        "When you do:\n",
        "\n",
        "my_dict[\"name\"]\n",
        "\n",
        "Python recalculates the hash of \"name\", jumps straight to where the value is stored, and retrieves \"Bibhu\" instantly.\n"
      ],
      "metadata": {
        "id": "8RT68jkJN2oa"
      }
    },
    {
      "cell_type": "markdown",
      "source": [
        "**9-Can lists contain different data types in Python?**\n",
        "\n",
        "In Python , lists can contain different data types — all mixed together in the same list.\n",
        "\n",
        "my_list = [42, \"hello\", 3.14, True, [1, 2, 3], {\"key\": \"value\"}]\n",
        "\n",
        "In this list:\n",
        "\n",
        "42 → an integer\n",
        "\n",
        "\"hello\" → a string\n",
        "\n",
        "3.14 → a float\n",
        "\n",
        "True → a boolean\n",
        "\n",
        "[1, 2, 3] → another list (nested list)\n",
        "\n",
        "{\"key\": \"value\"} → a dictionary\n",
        "\n",
        "Python lists are super flexible because they are dynamic arrays that don't require a fixed type for their elements."
      ],
      "metadata": {
        "id": "SPi7DLFfPP0r"
      }
    },
    {
      "cell_type": "markdown",
      "source": [
        "**10- Explain why strings are immutable in Python?**\n",
        "\n",
        "Strings are immutable because once a string is created, its contents cannot be changed.\n",
        "If you try to modify it, Python creates a new string instead of changing the original one.\n",
        "\n",
        "\n",
        "\n",
        "Safety and Consistency :\tStrings are used a lot (e.g., keys in dictionaries). If they could change, it would break things like hash tables.\n",
        "\n",
        "Efficiency :\tImmutable objects can be shared safely between different parts of a program, saving memory and boosting speed.\n",
        "\n",
        "Hashability :\tOnly immutable objects can have a fixed hash value, which is required for using strings as dictionary keys or set elements.\n",
        "\n",
        "Predictability :\tWhen strings can’t be changed, it’s easier to reason about your code — no unexpected side effects!"
      ],
      "metadata": {
        "id": "vdsdKKStPzv6"
      }
    },
    {
      "cell_type": "markdown",
      "source": [],
      "metadata": {
        "id": "bvV9gKJSQi7m"
      }
    },
    {
      "cell_type": "markdown",
      "source": [
        "**11- What advantages do dictionaries offer over lists for certain tasks?**\n",
        "\n",
        "Dictionaries offer several advantages over lists in Python, especially for tasks where you need to associate values with unique keys. Here’s a breakdown of why and when dictionaries are often better:\n",
        "\n",
        "a. Fast Lookups by Key\n",
        "Dictionaries provide average O(1) time complexity for lookups, insertions, and deletions by key.\n",
        "\n",
        " Lists require O(n) time for searching unless you know the exact index.\n",
        "\n",
        "b. Clear Association Between Keys and Values\n",
        "Dictionaries make the relationship between a key and its value explicit and easy to understand.\n",
        "\n",
        "c. Unordered by Nature, but Order-Preserving (Python 3.7+)\n",
        "In Python 3.7+, dictionaries preserve insertion order, which makes them behave somewhat like ordered structures, but without requiring position-based access.\n",
        "\n",
        "d. Ideal for Mapping/Hashing Tasks\n",
        "Dictionaries are perfect for:\n",
        "\n",
        "Counting items (collections.Counter)\n",
        "\n",
        "Caching/memoization\n",
        "\n",
        "Representing JSON-like data\n",
        "\n",
        "Configuration storage\n",
        "\n",
        "e. Better Semantics for Keys\n",
        "Keys can be any immutable type (string, number, tuple), allowing for more complex data mappings.\n",
        "\n"
      ],
      "metadata": {
        "id": "-zPe7b1BXcxO"
      }
    },
    {
      "cell_type": "markdown",
      "source": [
        "**12- Describe a scenario where using a tuple would be preferable over a list?**\n",
        "\n",
        "A tuple is preferable over a list in scenarios where:\n",
        "\n",
        "Immutability is desired (you don't want the data to change).\n",
        "\n",
        "Data integrity is important (accidental modifications must be prevented).\n",
        "\n",
        "The tuple is used as a key in a dictionary or stored in a set (since tuples are hashable, and lists aren’t).\n",
        "\n",
        "Example Scenario: Coordinates or Configurations\n",
        "Imagine you're building a program to map cities with their latitude and longitude.\n",
        "\n",
        "Using a tuple:\n",
        "\n",
        "city_coordinates = {\n",
        "    'New York': (40.7128, -74.0060),\n",
        "    'London': (51.5074, -0.1278),\n",
        "    'Tokyo': (35.6895, 139.6917)\n",
        "}\n",
        "\n",
        "Here, a tuple is ideal for coordinates because:\n",
        "\n",
        "The number of elements is fixed.\n",
        "\n",
        "The data shouldn't change.\n",
        "\n",
        "It's clear these values go together as a single, immutable unit.\n",
        "\n",
        "Tuples are hashable and can be used as dictionary keys.\n",
        "\n",
        "Lists can't be used this way since they're mutable (and unhashable).\n",
        "\n"
      ],
      "metadata": {
        "id": "9fmg9dUnYlVO"
      }
    },
    {
      "cell_type": "markdown",
      "source": [
        "**13- How do sets handle duplicate values in Python?**\n",
        "\n",
        "In Python , sets automatically eliminate duplicate values. When you add duplicate items to a set, only one copy of each unique value is kept.\n",
        "\n",
        "A set is an unordered collection of unique elements. If you try to add a duplicate:\n",
        "\n"
      ],
      "metadata": {
        "id": "ujnmUnSIZilJ"
      }
    },
    {
      "cell_type": "code",
      "source": [
        "my_set = {1, 2, 3, 3, 4, 4, 5}\n",
        "print(my_set)\n"
      ],
      "metadata": {
        "colab": {
          "base_uri": "https://localhost:8080/"
        },
        "id": "BVxqWU1rZ5ac",
        "outputId": "e3d5dce8-ec9f-46d6-8d0d-d7951f2534df"
      },
      "execution_count": 1,
      "outputs": [
        {
          "output_type": "stream",
          "name": "stdout",
          "text": [
            "{1, 2, 3, 4, 5}\n"
          ]
        }
      ]
    },
    {
      "cell_type": "markdown",
      "source": [
        "No error is thrown—it just silently ignores the duplicate.\n",
        "\n",
        "*Why It’s Useful*\n",
        "\n",
        "Automatically cleans up repeated data\n",
        "\n",
        "Great for deduplicating lists:"
      ],
      "metadata": {
        "id": "mRB5iUgaaJDZ"
      }
    },
    {
      "cell_type": "markdown",
      "source": [
        "**14- How does the “in” keyword work differently for lists and dictionaries?**\n",
        "\n",
        "The in keyword is used for membership testing in both lists and dictionaries, but it behaves differently depending on the data type.\n",
        "\n",
        "**in with lists **\n",
        "\n",
        "When used with a list, in checks if a value exists in the list.\n",
        "\n",
        "fruits = ['apple', 'banana', 'cherry']\n",
        "print('banana' in fruits)  # True\n",
        "print('grape' in fruits)   #  False\n",
        "\n",
        "Searches through each item in the list.\n",
        "\n",
        "Time complexity: O(n) (slower for large lists).\n",
        "\n",
        "*in with dictionaries*\n",
        "\n",
        "When used with a dictionary, in checks if a key exists (not the value).\n",
        "\n",
        "prices = {'apple': 1.5, 'banana': 0.9}\n",
        "print('banana' in prices)    #  True (checks key)\n",
        "\n",
        "print(0.9 in prices)         #  False (0.9 is a value, not a key)\n",
        "\n",
        "Does not look at the values, only the keys.\n",
        "\n",
        "Time complexity: Average case O(1) (much faster due to hashing).\n",
        "\n",
        "\n",
        "\n"
      ],
      "metadata": {
        "id": "RNVsgaJuaWnE"
      }
    },
    {
      "cell_type": "markdown",
      "source": [
        "**15- Can you modify the elements of a tuple? Explain why or why not.**\n",
        "\n",
        "No, we cannot modify the elements of a tuple in Python.\n",
        "\n",
        "Why Not? Tuples Are Immutable\n",
        "\n",
        "In Python, tuples are immutable, meaning once a tuple is created, its elements cannot be changed, added, or removed.\n",
        "\n",
        "my_tuple = (1, 2, 3)\n",
        "\n",
        "my_tuple[0] = 99  #  This will raise: TypeError: 'tuple' object does not support item assignment\n",
        "\n",
        "What You Can Do:\n",
        "You can create a new tuple based on the original:\n",
        "\n",
        "\n"
      ],
      "metadata": {
        "id": "ivThmLc2bQae"
      }
    },
    {
      "cell_type": "markdown",
      "source": [
        "**16- What is a nested dictionary, and give an example of its use case.**\n",
        "\n",
        "A nested dictionary is a dictionary inside another dictionary. It lets you represent structured, hierarchical data, kind of like a JSON object in Python.\n",
        "\n",
        "students = {\n",
        "    \"Alice\": {\"age\": 20, \"major\": \"CS\"},\n",
        "    \"Bob\": {\"age\": 22, \"major\": \"Math\"},\n",
        "}\n",
        "\n",
        "Each student name is a key.\n",
        "\n",
        "The value for each student is another dictionary containing more details.\n",
        "\n",
        "Use Cases for Nested Dictionaries\n",
        "1. Representing JSON-like data\n",
        "Great for working with APIs that return complex data (e.g. weather, users, etc.)\n",
        "\n",
        "2. Database-like Records\n",
        "Each key can represent a record (user, student, product), and its value holds attributes.\n",
        "\n",
        "3. Multilevel Configurations\n",
        "\n",
        "config = {\n",
        "    \"database\": {\"host\": \"localhost\", \"port\": 5432},\n",
        "    \"auth\": {\"user\": \"admin\", \"password\": \"secret\"}\n",
        "}\n",
        "\n",
        " Counting Combinations\n",
        "We can nest dictionaries to count frequencies of subgroups.\n",
        "\n"
      ],
      "metadata": {
        "id": "NdrGnZiacMjb"
      }
    },
    {
      "cell_type": "markdown",
      "source": [
        "**17- Describe the time complexity of accessing elements in a dictionary.**\n",
        "\n",
        "      Accessing elements in a dictionary in Python is typically very fast.\n",
        "\n",
        "    Time Complexity\n",
        "  *Average Case: O(1)*\n",
        "\n",
        " Dictionary lookups are constant time on average.\n",
        "\n",
        "This means:\n",
        "\n",
        "my_dict = {'a': 1, 'b': 2}\n",
        "print(my_dict['a'])  # Takes constant time\n",
        "\n",
        "\n",
        "*Worst Case: O(n)*\n",
        "\n",
        "Happens rarely, during hash collisions or if many keys hash to the same bucket.\n",
        "\n",
        "Python handles this well with rehashing and optimization, so worst-case performance is uncommon in practice.\n",
        "\n",
        "Why Is It So Fast?\n",
        "\n",
        "Dictionaries use a hash table internally:\n",
        "\n",
        "The key is hashed to find an index.\n",
        "\n",
        "The value is stored at that index.\n",
        "\n",
        "So, retrieving the value is direct — no need to search through the whole structure like with a list.\n",
        "\n",
        "\n",
        "\n"
      ],
      "metadata": {
        "id": "uA8pAK7Qc__6"
      }
    },
    {
      "cell_type": "markdown",
      "source": [
        "**18- In what situations are lists preferred over dictionaries?**\n",
        "\n",
        "     Situations Where Lists Are Preferred\n",
        "\n",
        "      1. Order Matters\n",
        "      Lists maintain the exact order of insertion.\n",
        "      Useful when sequence or indexing is important.\n",
        "\n",
        "      steps = ['wake up', 'brush teeth', 'have coffee']\n",
        "      print(steps[1])  # 'brush teeth'\n",
        "\n",
        "      2. Indexed Access\n",
        "        If you need to access elements by position (e.g., my_list[0]), lists are the way to go.\n",
        "\n",
        "3. Simple Collections\n",
        "When you're storing just a bunch of values (e.g., numbers, names), and you don’t need keys.\n",
        "\n",
        "4. Allowing Duplicates\n",
        "Lists can contain duplicate items, unlike sets or dictionary keys.\n",
        "\n",
        "5. Easy Iteration and Sorting\n",
        "Lists are easier to sort (sorted(list) or list.sort()), slice, and map/filter.\n",
        "\n",
        "   Ideal for tasks involving lots of iteration, sorting, or aggregation.\n",
        "\n",
        "6. Memory Efficient for Simple Data\n",
        "For simple sequences, lists use less memory than dictionaries (which store extra metadata for hashing).\n",
        "\n",
        "**19- Why are dictionaries considered unordered, and how does that affect data retrieval.**\n",
        "\n",
        "Why Are Dictionaries Considered Unordered?\n",
        "\n",
        "in versions before Python 3.7, dictionaries did not preserve the order in which items were inserted. So:\n",
        "\n",
        "my_dict = {'a': 1, 'b': 2, 'c': 3}\n",
        "\n",
        "print(my_dict)  # Output order could vary each time (in older versions)\n",
        "\n",
        "This led to the idea that dictionaries are unordered — meaning:\n",
        "\n",
        "There's no guarantee you'd retrieve items in the order you inserted them.\n",
        "\n",
        "BUT... Since Python 3.7 (and officially in 3.8):\n",
        "Dictionaries now preserve insertion order!\n",
        "\n",
        "This means items are returned in the order you added them, but:\n",
        "\n",
        "It’s still best to treat dicts as unordered for logic unless order matters and is intentional.\n",
        "\n",
        "my_dict = {'a': 1, 'b': 2, 'c': 3}\n",
        "print(my_dict)  \n",
        "\n",
        "How This Affects Data Retrieval\n",
        "1. Lookup by Key is Always Fast (O(1))\n",
        "Order doesn’t affect how fast you can get my_dict['b'].\n",
        "\n",
        "2. You Can’t Access by Index\n",
        "\n",
        "3. Don't Rely on Order in Older Python Versions\n",
        "If your code must run on older versions (<3.7), don’t rely on insertion order.\n",
        "\n",
        "\n",
        "\n",
        "\n",
        "\n"
      ],
      "metadata": {
        "id": "sN6MBzxOeJT4"
      }
    },
    {
      "cell_type": "markdown",
      "source": [
        "**20- Explain the difference between a list and a dictionary in terms of data retrieval.**\n",
        "\n",
        "The main difference between a list and a dictionary in Python lies in how data is stored and retrieved. Here's a breakdown:\n",
        "\n",
        "List – Indexed Data Retrieval\n",
        "\n",
        "Lists store elements in a sequence, accessible by their position (index).\n",
        "\n",
        "You retrieve data using numeric indices: list[index].\n",
        "\n",
        "Time complexity for access by index: O(1) (fast)\n",
        "\n",
        "Searching for a specific value: O(n) (slow if not sorted or indexed)\n",
        "\n",
        "Dictionary – Key-Based Data Retrieval\n",
        "Dictionaries store key-value pairs.\n",
        "\n",
        "You retrieve data using a key (like a label): dict[key].\n",
        "\n",
        "Time complexity for key lookup: O(1) on average (very fast)\n",
        "\n",
        "Values are not ordered by default (though insertion order is preserved in Python 3.7+)\n"
      ],
      "metadata": {
        "id": "6DO5NyFHgUIZ"
      }
    },
    {
      "cell_type": "markdown",
      "source": [
        "**Practical Question**s\n",
        "\n",
        "**1- Write a code to create a string with your name and print it.**\n"
      ],
      "metadata": {
        "id": "F-JjjIQTg0bi"
      }
    },
    {
      "cell_type": "code",
      "source": [
        "# Create a string with your name\n",
        "my_name = \"Bibhu Datta\"\n",
        "\n",
        "# Print the string\n",
        "print(my_name)\n"
      ],
      "metadata": {
        "colab": {
          "base_uri": "https://localhost:8080/"
        },
        "id": "-OeQi9GEhDW7",
        "outputId": "f7ebfae6-1ada-4d75-b788-a8c3199877c6"
      },
      "execution_count": 3,
      "outputs": [
        {
          "output_type": "stream",
          "name": "stdout",
          "text": [
            "Bibhu Datta\n"
          ]
        }
      ]
    },
    {
      "cell_type": "markdown",
      "source": [
        "**2- Write a code to find the length of the string \"Hello World\".**\n"
      ],
      "metadata": {
        "id": "paqn69pYhgIj"
      }
    },
    {
      "cell_type": "code",
      "source": [
        "# Define the string\n",
        "my_string = \"Hello World\"\n",
        "\n",
        "# Find and print the length of the string\n",
        "string_length = len(my_string)\n",
        "print(\"The length of the string is:\", string_length)\n"
      ],
      "metadata": {
        "colab": {
          "base_uri": "https://localhost:8080/"
        },
        "id": "F1mS-NUZhm5y",
        "outputId": "45b951dd-d4bf-45c5-a230-91bb9e68a963"
      },
      "execution_count": 4,
      "outputs": [
        {
          "output_type": "stream",
          "name": "stdout",
          "text": [
            "The length of the string is: 11\n"
          ]
        }
      ]
    },
    {
      "cell_type": "markdown",
      "source": [
        "**3- Write a code to slice the first 3 characters from the string \"Python Programming\"**\n"
      ],
      "metadata": {
        "id": "4sMt18CqhyIq"
      }
    },
    {
      "cell_type": "code",
      "source": [
        "# Define the string\n",
        "my_string = \"Python Programming\"\n",
        "\n",
        "# Slice the first 3 characters\n",
        "sliced_string = my_string[:3]\n",
        "\n",
        "# Print the sliced string\n",
        "print(sliced_string)\n"
      ],
      "metadata": {
        "colab": {
          "base_uri": "https://localhost:8080/"
        },
        "id": "A9PjD-oyiAUg",
        "outputId": "480dc900-5c39-4e37-cb0d-4316a4d872e0"
      },
      "execution_count": 5,
      "outputs": [
        {
          "output_type": "stream",
          "name": "stdout",
          "text": [
            "Pyt\n"
          ]
        }
      ]
    },
    {
      "cell_type": "markdown",
      "source": [
        "**4- Write a code to convert the string \"hello\" to uppercase.**\n",
        "\n"
      ],
      "metadata": {
        "id": "P8dI2A5TiDnZ"
      }
    },
    {
      "cell_type": "code",
      "source": [
        "# Define the string\n",
        "my_string = \"hello\"\n",
        "\n",
        "# Convert the string to uppercase\n",
        "uppercase_string = my_string.upper()\n",
        "\n",
        "# Print the uppercase string\n",
        "print(uppercase_string)\n"
      ],
      "metadata": {
        "colab": {
          "base_uri": "https://localhost:8080/"
        },
        "id": "DN__e3iDiyvu",
        "outputId": "aa74f3b4-0a63-411b-88ec-52d3cdf1c274"
      },
      "execution_count": 6,
      "outputs": [
        {
          "output_type": "stream",
          "name": "stdout",
          "text": [
            "HELLO\n"
          ]
        }
      ]
    },
    {
      "cell_type": "markdown",
      "source": [
        "**5- Write a code to replace the word \"apple\" with \"orange\" in the string \"I like apple\".**\n",
        "\n"
      ],
      "metadata": {
        "id": "BgXnt-ESjnoX"
      }
    },
    {
      "cell_type": "code",
      "source": [
        "# Define the string\n",
        "my_string = \"I like apple\"\n",
        "\n",
        "# Replace \"apple\" with \"orange\"\n",
        "modified_string = my_string.replace(\"apple\", \"orange\")\n",
        "\n",
        "# Print the modified string\n",
        "print(modified_string)\n"
      ],
      "metadata": {
        "colab": {
          "base_uri": "https://localhost:8080/"
        },
        "id": "auHPJ3d3kH-G",
        "outputId": "d33322fd-8fe7-41f0-b997-d6434043bc66"
      },
      "execution_count": 7,
      "outputs": [
        {
          "output_type": "stream",
          "name": "stdout",
          "text": [
            "I like orange\n"
          ]
        }
      ]
    },
    {
      "cell_type": "markdown",
      "source": [
        "**6- Write a code to create a list with numbers 1 to 5 and print it.**\n"
      ],
      "metadata": {
        "id": "qOjim_67kVZR"
      }
    },
    {
      "cell_type": "code",
      "source": [
        "# Create a list with numbers 1 to 5\n",
        "my_list = [1, 2, 3, 4, 5]\n",
        "\n",
        "# Print the list\n",
        "print(my_list)\n"
      ],
      "metadata": {
        "colab": {
          "base_uri": "https://localhost:8080/"
        },
        "id": "J5awHxrRkZ9_",
        "outputId": "86c4aa7e-f9ba-4e18-c7e1-e5da1eaa78f1"
      },
      "execution_count": 8,
      "outputs": [
        {
          "output_type": "stream",
          "name": "stdout",
          "text": [
            "[1, 2, 3, 4, 5]\n"
          ]
        }
      ]
    },
    {
      "cell_type": "markdown",
      "source": [
        "**7- Write a code to append the number 10 to the list [1, 2, 3, 4].**\n",
        "\n"
      ],
      "metadata": {
        "id": "4NAxvqeTkhUN"
      }
    },
    {
      "cell_type": "code",
      "source": [
        "# Define the list\n",
        "my_list = [1, 2, 3, 4]\n",
        "\n",
        "# Append the number 10 to the list\n",
        "my_list.append(10)\n",
        "\n",
        "# Print the modified list\n",
        "print(my_list)\n"
      ],
      "metadata": {
        "colab": {
          "base_uri": "https://localhost:8080/"
        },
        "id": "bCN2-NO-kpT1",
        "outputId": "7373fc0d-e534-476c-aae6-a766e67cabea"
      },
      "execution_count": 10,
      "outputs": [
        {
          "output_type": "stream",
          "name": "stdout",
          "text": [
            "[1, 2, 3, 4, 10]\n"
          ]
        }
      ]
    },
    {
      "cell_type": "markdown",
      "source": [
        "**8- Write a code to remove the number 3 from the list [1, 2, 3, 4, 5].**\n",
        "\n"
      ],
      "metadata": {
        "id": "VCAttu24k0Mh"
      }
    },
    {
      "cell_type": "code",
      "source": [
        "# Define the list\n",
        "my_list = [1, 2, 3, 4, 5]\n",
        "\n",
        "# Remove the number 3 from the list\n",
        "my_list.remove(3)\n",
        "\n",
        "# Print the modified list\n",
        "print(my_list)\n"
      ],
      "metadata": {
        "colab": {
          "base_uri": "https://localhost:8080/"
        },
        "id": "zUq7ejzBlHlH",
        "outputId": "efd7c3fa-9e0a-4b62-94cc-1d7d2178820e"
      },
      "execution_count": 11,
      "outputs": [
        {
          "output_type": "stream",
          "name": "stdout",
          "text": [
            "[1, 2, 4, 5]\n"
          ]
        }
      ]
    },
    {
      "cell_type": "markdown",
      "source": [
        "**9- Write a code to access the second element in the list ['a', 'b', 'c', 'd'].**"
      ],
      "metadata": {
        "id": "qZVkES7ClVla"
      }
    },
    {
      "cell_type": "code",
      "source": [
        "# Define the list\n",
        "my_list = ['a', 'b', 'c', 'd']\n",
        "\n",
        "# Access the second element\n",
        "second_element = my_list[1]\n",
        "\n",
        "# Print the second element\n",
        "print(second_element)\n"
      ],
      "metadata": {
        "colab": {
          "base_uri": "https://localhost:8080/"
        },
        "id": "np053QfWlZ16",
        "outputId": "e31f2bfe-37b5-4eda-d454-48a3941973bc"
      },
      "execution_count": 12,
      "outputs": [
        {
          "output_type": "stream",
          "name": "stdout",
          "text": [
            "b\n"
          ]
        }
      ]
    },
    {
      "cell_type": "markdown",
      "source": [
        "**10- Write a code to reverse the list [10, 20, 30, 40, 50].**\n"
      ],
      "metadata": {
        "id": "5XFsWD4qllzq"
      }
    },
    {
      "cell_type": "code",
      "source": [
        "# Define the list\n",
        "my_list = [10, 20, 30, 40, 50]\n",
        "\n",
        "# Reverse the list in place\n",
        "my_list.reverse()\n",
        "\n",
        "# Print the reversed list\n",
        "print(my_list)\n"
      ],
      "metadata": {
        "colab": {
          "base_uri": "https://localhost:8080/"
        },
        "id": "mmW_N54kluIG",
        "outputId": "ff846a69-34ca-43f3-c8b1-46bfa8cc7420"
      },
      "execution_count": 13,
      "outputs": [
        {
          "output_type": "stream",
          "name": "stdout",
          "text": [
            "[50, 40, 30, 20, 10]\n"
          ]
        }
      ]
    },
    {
      "cell_type": "markdown",
      "source": [
        "**11. Write a code to create a tuple with the elements 100, 200, 300 and print it.**"
      ],
      "metadata": {
        "id": "tkOgtngal87q"
      }
    },
    {
      "cell_type": "code",
      "source": [
        "# Create a tuple with elements 100, 200, 300\n",
        "my_tuple = (100, 200, 300)\n",
        "\n",
        "# Print the tuple\n",
        "print(my_tuple)\n"
      ],
      "metadata": {
        "colab": {
          "base_uri": "https://localhost:8080/"
        },
        "id": "aKdyD5-hmG8v",
        "outputId": "a9a07485-9c39-4978-88c8-78a7a277e51c"
      },
      "execution_count": 14,
      "outputs": [
        {
          "output_type": "stream",
          "name": "stdout",
          "text": [
            "(100, 200, 300)\n"
          ]
        }
      ]
    },
    {
      "cell_type": "markdown",
      "source": [
        "**12. Write a code to access the second-to-last element of the tuple ('red', 'green', 'blue', 'yellow').**\n"
      ],
      "metadata": {
        "id": "Nrhq47c1mIda"
      }
    },
    {
      "cell_type": "code",
      "source": [
        "# Define the tuple\n",
        "colors = ('red', 'green', 'blue', 'yellow')\n",
        "\n",
        "# Access the second-to-last element\n",
        "second_last = colors[-2]\n",
        "\n",
        "# Print the element\n",
        "print(second_last)\n"
      ],
      "metadata": {
        "colab": {
          "base_uri": "https://localhost:8080/"
        },
        "id": "W0imd7NWmOlW",
        "outputId": "a53252bd-c117-4824-c994-84724b61342a"
      },
      "execution_count": 15,
      "outputs": [
        {
          "output_type": "stream",
          "name": "stdout",
          "text": [
            "blue\n"
          ]
        }
      ]
    },
    {
      "cell_type": "markdown",
      "source": [
        "**13. Write a code to find the minimum number in the tuple (10, 20, 5, 15).**\n"
      ],
      "metadata": {
        "id": "V-V1eV-HmU9h"
      }
    },
    {
      "cell_type": "code",
      "source": [
        "# Define the tuple\n",
        "numbers = (10, 20, 5, 15)\n",
        "\n",
        "# Find the minimum number\n",
        "min_number = min(numbers)\n",
        "\n",
        "# Print the minimum number\n",
        "print(min_number)\n"
      ],
      "metadata": {
        "colab": {
          "base_uri": "https://localhost:8080/"
        },
        "id": "jeuzq8phmabX",
        "outputId": "73459984-487f-4632-8bb9-41b08d71d9bc"
      },
      "execution_count": 16,
      "outputs": [
        {
          "output_type": "stream",
          "name": "stdout",
          "text": [
            "5\n"
          ]
        }
      ]
    },
    {
      "cell_type": "markdown",
      "source": [
        "**14. Write a code to find the index of the element \"cat\" in the tuple ('dog', 'cat', 'rabbit').**"
      ],
      "metadata": {
        "id": "Rk2UZpcxmhQj"
      }
    },
    {
      "cell_type": "code",
      "source": [
        "# Define the tuple\n",
        "animals = ('dog', 'cat', 'rabbit')\n",
        "\n",
        "# Find the index of \"cat\"\n",
        "cat_index = animals.index('cat')\n",
        "\n",
        "# Print the index\n",
        "print(cat_index)\n"
      ],
      "metadata": {
        "colab": {
          "base_uri": "https://localhost:8080/"
        },
        "id": "iGdhoD2smk0H",
        "outputId": "39d0b5be-fe4a-49c7-c95e-0a4b16f7f565"
      },
      "execution_count": 17,
      "outputs": [
        {
          "output_type": "stream",
          "name": "stdout",
          "text": [
            "1\n"
          ]
        }
      ]
    },
    {
      "cell_type": "markdown",
      "source": [
        "**15. Write a code to create a tuple containing three different fruits and check if \"kiwi\" is in it**."
      ],
      "metadata": {
        "id": "KDNNx3yNmvCG"
      }
    },
    {
      "cell_type": "code",
      "source": [
        "# Create a tuple with fruits\n",
        "fruits = ('apple', 'banana', 'orange')\n",
        "\n",
        "# Check if \"kiwi\" is in the tuple\n",
        "if 'kiwi' in fruits:\n",
        "    print(\"Kiwi is in the tuple.\")\n",
        "else:\n",
        "    print(\"Kiwi is not in the tuple.\")\n"
      ],
      "metadata": {
        "colab": {
          "base_uri": "https://localhost:8080/"
        },
        "id": "904fZeoxm4Al",
        "outputId": "ea2613fa-04ff-4eb8-b48c-da56a0509c19"
      },
      "execution_count": 18,
      "outputs": [
        {
          "output_type": "stream",
          "name": "stdout",
          "text": [
            "Kiwi is not in the tuple.\n"
          ]
        }
      ]
    },
    {
      "cell_type": "markdown",
      "source": [
        "**16. Write a code to create a set with the elements 'a', 'b', 'c' and print it.**"
      ],
      "metadata": {
        "id": "GSRJqusnoxrL"
      }
    },
    {
      "cell_type": "code",
      "source": [
        "# Create a set with elements 'a', 'b', 'c'\n",
        "my_set = {'a', 'b', 'c'}\n",
        "\n",
        "# Print the set\n",
        "print(my_set)\n"
      ],
      "metadata": {
        "colab": {
          "base_uri": "https://localhost:8080/"
        },
        "id": "tHWMM-c-o1T9",
        "outputId": "7f4dc646-0c06-4015-d3b3-9578243a9bd3"
      },
      "execution_count": 19,
      "outputs": [
        {
          "output_type": "stream",
          "name": "stdout",
          "text": [
            "{'a', 'b', 'c'}\n"
          ]
        }
      ]
    },
    {
      "cell_type": "markdown",
      "source": [
        "**17. Write a code to clear all elements from the set {1, 2, 3, 4, 5}.**"
      ],
      "metadata": {
        "id": "OrNw5VPjo6gR"
      }
    },
    {
      "cell_type": "code",
      "source": [
        "# Define the set\n",
        "my_set = {1, 2, 3, 4, 5}\n",
        "\n",
        "# Clear all elements from the set\n",
        "my_set.clear()\n",
        "\n",
        "# Print the now-empty set\n",
        "print(my_set)\n"
      ],
      "metadata": {
        "colab": {
          "base_uri": "https://localhost:8080/"
        },
        "id": "6-b8fDj2o_EZ",
        "outputId": "4c2ca3c3-0939-4588-c40d-919bdc4ab83e"
      },
      "execution_count": 20,
      "outputs": [
        {
          "output_type": "stream",
          "name": "stdout",
          "text": [
            "set()\n"
          ]
        }
      ]
    },
    {
      "cell_type": "markdown",
      "source": [
        "**18. Write a code to remove the element 4 from the set {1, 2, 3, 4}.**"
      ],
      "metadata": {
        "id": "j50_VH60pGU-"
      }
    },
    {
      "cell_type": "code",
      "source": [
        "\n"
      ],
      "metadata": {
        "id": "3eBGXOQ0OTAn"
      },
      "execution_count": null,
      "outputs": []
    },
    {
      "cell_type": "code",
      "source": [
        "# Define the set\n",
        "my_set = {1, 2, 3, 4}\n",
        "\n",
        "# Remove the element 4 from the set\n",
        "my_set.remove(4)\n",
        "\n",
        "# Print the modified set\n",
        "print(my_set)\n"
      ],
      "metadata": {
        "colab": {
          "base_uri": "https://localhost:8080/"
        },
        "id": "q--okf1zpK3N",
        "outputId": "a5d35e99-9275-42ae-9c40-974079febb0b"
      },
      "execution_count": 21,
      "outputs": [
        {
          "output_type": "stream",
          "name": "stdout",
          "text": [
            "{1, 2, 3}\n"
          ]
        }
      ]
    },
    {
      "cell_type": "markdown",
      "source": [
        "**19. Write a code to find the union of two sets {1, 2, 3} and {3, 4, 5}.**"
      ],
      "metadata": {
        "id": "OZ6ejE6ApP0G"
      }
    },
    {
      "cell_type": "code",
      "source": [
        "# Define the sets\n",
        "set1 = {1, 2, 3}\n",
        "set2 = {3, 4, 5}\n",
        "\n",
        "# Find the union of the two sets\n",
        "union_set = set1 | set2\n",
        "\n",
        "# Print the union\n",
        "print(union_set)\n"
      ],
      "metadata": {
        "colab": {
          "base_uri": "https://localhost:8080/"
        },
        "id": "Btjxdax4pUIN",
        "outputId": "3c040c41-dcf4-4c22-ab5e-d57745f48c94"
      },
      "execution_count": 22,
      "outputs": [
        {
          "output_type": "stream",
          "name": "stdout",
          "text": [
            "{1, 2, 3, 4, 5}\n"
          ]
        }
      ]
    },
    {
      "cell_type": "markdown",
      "source": [
        "**20. Write a code to find the intersection of two sets {1, 2, 3} and {2, 3, 4}.**"
      ],
      "metadata": {
        "id": "65lU0NgFpbZ_"
      }
    },
    {
      "cell_type": "code",
      "source": [
        "# Define the sets\n",
        "set1 = {1, 2, 3}\n",
        "set2 = {2, 3, 4}\n",
        "\n",
        "# Find the intersection of the two sets\n",
        "intersection_set = set1 & set2\n",
        "\n",
        "# Print the intersection\n",
        "print(intersection_set)\n"
      ],
      "metadata": {
        "colab": {
          "base_uri": "https://localhost:8080/"
        },
        "id": "qsNP3JAjpfil",
        "outputId": "aa8c5bb4-d8ca-4131-c8a6-e7171658ad78"
      },
      "execution_count": 23,
      "outputs": [
        {
          "output_type": "stream",
          "name": "stdout",
          "text": [
            "{2, 3}\n"
          ]
        }
      ]
    },
    {
      "cell_type": "markdown",
      "source": [
        "**21. Write a code to create a dictionary with the keys \"name\", \"age\", and \"city\", and print it.**"
      ],
      "metadata": {
        "id": "z4WWZi6bpnid"
      }
    },
    {
      "cell_type": "code",
      "source": [
        "# Create a dictionary with the keys \"name\", \"age\", and \"city\"\n",
        "my_dict = {\n",
        "    \"name\": \"Bibhu\",\n",
        "    \"age\": 35,\n",
        "    \"city\": \"Hyderabad\"\n",
        "}\n",
        "\n",
        "# Print the dictionary\n",
        "print(my_dict)\n"
      ],
      "metadata": {
        "colab": {
          "base_uri": "https://localhost:8080/"
        },
        "id": "NvnUoUHOptIN",
        "outputId": "c2e324eb-048d-4c1a-a2fa-d50657797182"
      },
      "execution_count": 24,
      "outputs": [
        {
          "output_type": "stream",
          "name": "stdout",
          "text": [
            "{'name': 'Bibhu', 'age': 35, 'city': 'Hyderabad'}\n"
          ]
        }
      ]
    },
    {
      "cell_type": "markdown",
      "source": [
        "**22. Write a code to add a new key-value pair \"country\": \"USA\" to the dictionary {'name': 'John', 'age': 25}.**"
      ],
      "metadata": {
        "id": "2u9PTngop6cp"
      }
    },
    {
      "cell_type": "code",
      "source": [
        "# Define the dictionary\n",
        "my_dict = {'name': 'John', 'age': 25}\n",
        "\n",
        "# Add a new key-value pair to the dictionary\n",
        "my_dict['country'] = 'USA'\n",
        "\n",
        "# Print the updated dictionary\n",
        "print(my_dict)\n"
      ],
      "metadata": {
        "colab": {
          "base_uri": "https://localhost:8080/"
        },
        "id": "15ykqdPCqAvG",
        "outputId": "11782aaa-4569-4c94-debf-2a71509e077f"
      },
      "execution_count": 25,
      "outputs": [
        {
          "output_type": "stream",
          "name": "stdout",
          "text": [
            "{'name': 'John', 'age': 25, 'country': 'USA'}\n"
          ]
        }
      ]
    },
    {
      "cell_type": "markdown",
      "source": [
        "**23. Write a code to access the value associated with the key \"name\" in the dictionary {'name': 'Alice', 'age': 30}**."
      ],
      "metadata": {
        "id": "2Qm1v_5-qI4j"
      }
    },
    {
      "cell_type": "code",
      "source": [
        "# Define the dictionary\n",
        "my_dict = {'name': 'Alice', 'age': 30}\n",
        "\n",
        "# Access the value associated with the key \"name\"\n",
        "name_value = my_dict['name']\n",
        "\n",
        "# Print the value\n",
        "print(name_value)\n"
      ],
      "metadata": {
        "colab": {
          "base_uri": "https://localhost:8080/"
        },
        "id": "GiI5btz7qMt9",
        "outputId": "5ce04dd5-8590-40c2-e23a-a6f97353405e"
      },
      "execution_count": 26,
      "outputs": [
        {
          "output_type": "stream",
          "name": "stdout",
          "text": [
            "Alice\n"
          ]
        }
      ]
    },
    {
      "cell_type": "markdown",
      "source": [
        "**24. Write a code to remove the key \"age\" from the dictionary {'name': 'Bob', 'age': 22, 'city': 'New York'}.**"
      ],
      "metadata": {
        "id": "rotwzsTPqRZe"
      }
    },
    {
      "cell_type": "code",
      "source": [
        "# Define the dictionary\n",
        "my_dict = {'name': 'Bob', 'age': 22, 'city': 'New York'}\n",
        "\n",
        "# Remove the key \"age\" from the dictionary\n",
        "del my_dict['age']\n",
        "\n",
        "# Print the updated dictionary\n",
        "print(my_dict)\n"
      ],
      "metadata": {
        "colab": {
          "base_uri": "https://localhost:8080/"
        },
        "id": "dZuoMp9wqVaB",
        "outputId": "66786d04-e095-4366-ffc7-bfb0be17af8e"
      },
      "execution_count": 27,
      "outputs": [
        {
          "output_type": "stream",
          "name": "stdout",
          "text": [
            "{'name': 'Bob', 'city': 'New York'}\n"
          ]
        }
      ]
    },
    {
      "cell_type": "markdown",
      "source": [
        "**25. Write a code to check if the key \"city\" exists in the dictionary {'name': 'Alice', 'city': 'Paris'}.**"
      ],
      "metadata": {
        "id": "s58EYRZ3qaZB"
      }
    },
    {
      "cell_type": "code",
      "source": [
        "# Define the dictionary\n",
        "my_dict = {'name': 'Alice', 'city': 'Paris'}\n",
        "\n",
        "# Check if the key \"city\" exists in the dictionary\n",
        "if 'city' in my_dict:\n",
        "    print(\"The key 'city' exists in the dictionary.\")\n",
        "else:\n",
        "    print(\"The key 'city' does not exist in the dictionary.\")\n"
      ],
      "metadata": {
        "colab": {
          "base_uri": "https://localhost:8080/"
        },
        "id": "nbWP7U-2qhrh",
        "outputId": "6d01b92d-f111-48fc-f70b-1b318b6e7b31"
      },
      "execution_count": 28,
      "outputs": [
        {
          "output_type": "stream",
          "name": "stdout",
          "text": [
            "The key 'city' exists in the dictionary.\n"
          ]
        }
      ]
    },
    {
      "cell_type": "markdown",
      "source": [
        "**26. Write a code to create a list, a tuple, and a dictionary, and print them all.**"
      ],
      "metadata": {
        "id": "JPcRBUm0qjhH"
      }
    },
    {
      "cell_type": "code",
      "source": [
        "# Create a list\n",
        "my_list = [1, 2, 3, 4, 5]\n",
        "\n",
        "# Create a tuple\n",
        "my_tuple = ('apple', 'banana', 'cherry')\n",
        "\n",
        "# Create a dictionary\n",
        "my_dict = {'name': 'John', 'age': 25, 'city': 'New York'}\n",
        "\n",
        "# Print the list, tuple, and dictionary\n",
        "print(\"List:\", my_list)\n",
        "print(\"Tuple:\", my_tuple)\n",
        "print(\"Dictionary:\", my_dict)\n"
      ],
      "metadata": {
        "colab": {
          "base_uri": "https://localhost:8080/"
        },
        "id": "VKpw9W4fqoIW",
        "outputId": "85a425cc-34a4-4a1a-887b-cf004a0566fc"
      },
      "execution_count": 29,
      "outputs": [
        {
          "output_type": "stream",
          "name": "stdout",
          "text": [
            "List: [1, 2, 3, 4, 5]\n",
            "Tuple: ('apple', 'banana', 'cherry')\n",
            "Dictionary: {'name': 'John', 'age': 25, 'city': 'New York'}\n"
          ]
        }
      ]
    },
    {
      "cell_type": "markdown",
      "source": [
        "27. Write a code to create a list of 5 random numbers between 1 and 100, sort it in ascending order, and print the\n",
        "result.(replaced)."
      ],
      "metadata": {
        "id": "um4ZFRxoqwKd"
      }
    },
    {
      "cell_type": "code",
      "source": [
        "import random\n",
        "\n",
        "# Create a list of 5 random numbers between 1 and 100\n",
        "random_numbers = random.sample(range(1, 101), 5)\n",
        "\n",
        "# Sort the list in ascending order\n",
        "random_numbers.sort()\n",
        "\n",
        "# Print the sorted list\n",
        "print(random_numbers)\n"
      ],
      "metadata": {
        "colab": {
          "base_uri": "https://localhost:8080/"
        },
        "id": "LdCof4kuq5Ad",
        "outputId": "8031ebea-d787-435a-a599-d4f352d9f7ec"
      },
      "execution_count": 30,
      "outputs": [
        {
          "output_type": "stream",
          "name": "stdout",
          "text": [
            "[18, 46, 49, 56, 76]\n"
          ]
        }
      ]
    },
    {
      "cell_type": "markdown",
      "source": [
        "**28. Write a code to create a list with strings and print the element at the third index.**"
      ],
      "metadata": {
        "id": "D1a0J5TZrenA"
      }
    },
    {
      "cell_type": "code",
      "source": [
        "# Create a list with strings\n",
        "my_list = ['apple', 'banana', 'cherry', 'date', 'elderberry']\n",
        "\n",
        "# Access the element at the third index\n",
        "element_at_third_index = my_list[3]\n",
        "\n",
        "# Print the element\n",
        "print(element_at_third_index)\n"
      ],
      "metadata": {
        "colab": {
          "base_uri": "https://localhost:8080/"
        },
        "id": "bY__FMe6rjSW",
        "outputId": "86d0a7f9-4453-4e34-9c17-196624843be2"
      },
      "execution_count": 31,
      "outputs": [
        {
          "output_type": "stream",
          "name": "stdout",
          "text": [
            "date\n"
          ]
        }
      ]
    },
    {
      "cell_type": "markdown",
      "source": [
        "**29. Write a code to combine two dictionaries into one and print the result.**"
      ],
      "metadata": {
        "id": "gOKPeiAsrnpe"
      }
    },
    {
      "cell_type": "code",
      "source": [
        "# Define two dictionaries\n",
        "dict1 = {'name': 'Bibhu', 'age': 35}\n",
        "dict2 = {'city': 'Hyderabad', 'job': 'Engineer'}\n",
        "\n",
        "# Combine the dictionaries using the update() method\n",
        "dict1.update(dict2)\n",
        "\n",
        "# Print the combined dictionary\n",
        "print(dict1)\n"
      ],
      "metadata": {
        "colab": {
          "base_uri": "https://localhost:8080/"
        },
        "id": "q1XI4QNYrrVr",
        "outputId": "8b77942b-aea4-4a9b-bd27-3c81cf17f8d1"
      },
      "execution_count": 33,
      "outputs": [
        {
          "output_type": "stream",
          "name": "stdout",
          "text": [
            "{'name': 'Bibhu', 'age': 35, 'city': 'Hyderabad', 'job': 'Engineer'}\n"
          ]
        }
      ]
    },
    {
      "cell_type": "markdown",
      "source": [
        "**30. Write a code to convert a list of strings into a set.**"
      ],
      "metadata": {
        "id": "1oUh9qI7r4pU"
      }
    },
    {
      "cell_type": "code",
      "source": [
        "# Define a list of strings\n",
        "my_list = ['apple', 'banana', 'cherry', 'apple', 'banana']\n",
        "\n",
        "# Convert the list to a set\n",
        "my_set = set(my_list)\n",
        "\n",
        "# Print the set\n",
        "print(my_set)\n"
      ],
      "metadata": {
        "colab": {
          "base_uri": "https://localhost:8080/"
        },
        "id": "x_I-e7Gir871",
        "outputId": "183de334-8d71-4f41-a5a7-09b699105bd4"
      },
      "execution_count": 34,
      "outputs": [
        {
          "output_type": "stream",
          "name": "stdout",
          "text": [
            "{'cherry', 'banana', 'apple'}\n"
          ]
        }
      ]
    }
  ]
}